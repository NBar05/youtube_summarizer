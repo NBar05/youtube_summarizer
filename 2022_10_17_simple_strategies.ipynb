{
  "nbformat": 4,
  "nbformat_minor": 0,
  "metadata": {
    "colab": {
      "provenance": [],
      "collapsed_sections": [],
      "authorship_tag": "ABX9TyMeaXvZ/8VLqc6gD/VDbqEv",
      "include_colab_link": true
    },
    "kernelspec": {
      "name": "python3",
      "display_name": "Python 3"
    },
    "language_info": {
      "name": "python"
    },
    "widgets": {
      "application/vnd.jupyter.widget-state+json": {
        "985021f2a7b94c019debdb33ae773ae5": {
          "model_module": "@jupyter-widgets/controls",
          "model_name": "HBoxModel",
          "model_module_version": "1.5.0",
          "state": {
            "_dom_classes": [],
            "_model_module": "@jupyter-widgets/controls",
            "_model_module_version": "1.5.0",
            "_model_name": "HBoxModel",
            "_view_count": null,
            "_view_module": "@jupyter-widgets/controls",
            "_view_module_version": "1.5.0",
            "_view_name": "HBoxView",
            "box_style": "",
            "children": [
              "IPY_MODEL_860e7485c02a4c1091cd4d4bb55ec6b0",
              "IPY_MODEL_15483aa0da964dd99f996b17b4c89c55",
              "IPY_MODEL_cd4bdccf29294250ba40c6f5f579992f"
            ],
            "layout": "IPY_MODEL_8b1e254e88a046bbb8e04b7bd9ea7737"
          }
        },
        "860e7485c02a4c1091cd4d4bb55ec6b0": {
          "model_module": "@jupyter-widgets/controls",
          "model_name": "HTMLModel",
          "model_module_version": "1.5.0",
          "state": {
            "_dom_classes": [],
            "_model_module": "@jupyter-widgets/controls",
            "_model_module_version": "1.5.0",
            "_model_name": "HTMLModel",
            "_view_count": null,
            "_view_module": "@jupyter-widgets/controls",
            "_view_module_version": "1.5.0",
            "_view_name": "HTMLView",
            "description": "",
            "description_tooltip": null,
            "layout": "IPY_MODEL_788ae67564814044b655cc60ce0b11cb",
            "placeholder": "​",
            "style": "IPY_MODEL_c201a732ee9b4de782f1944e6f58ab74",
            "value": "Downloading: 100%"
          }
        },
        "15483aa0da964dd99f996b17b4c89c55": {
          "model_module": "@jupyter-widgets/controls",
          "model_name": "FloatProgressModel",
          "model_module_version": "1.5.0",
          "state": {
            "_dom_classes": [],
            "_model_module": "@jupyter-widgets/controls",
            "_model_module_version": "1.5.0",
            "_model_name": "FloatProgressModel",
            "_view_count": null,
            "_view_module": "@jupyter-widgets/controls",
            "_view_module_version": "1.5.0",
            "_view_name": "ProgressView",
            "bar_style": "success",
            "description": "",
            "description_tooltip": null,
            "layout": "IPY_MODEL_1530b26b09ea4de886140bc116e55d81",
            "max": 898823,
            "min": 0,
            "orientation": "horizontal",
            "style": "IPY_MODEL_c3b6783db31c4e3aa09f384b7bd37c45",
            "value": 898823
          }
        },
        "cd4bdccf29294250ba40c6f5f579992f": {
          "model_module": "@jupyter-widgets/controls",
          "model_name": "HTMLModel",
          "model_module_version": "1.5.0",
          "state": {
            "_dom_classes": [],
            "_model_module": "@jupyter-widgets/controls",
            "_model_module_version": "1.5.0",
            "_model_name": "HTMLModel",
            "_view_count": null,
            "_view_module": "@jupyter-widgets/controls",
            "_view_module_version": "1.5.0",
            "_view_name": "HTMLView",
            "description": "",
            "description_tooltip": null,
            "layout": "IPY_MODEL_513da873c140422d9bf36801cba02e6c",
            "placeholder": "​",
            "style": "IPY_MODEL_6501ea1c23e4441fa92303ae1298fbc7",
            "value": " 899k/899k [00:01&lt;00:00, 645kB/s]"
          }
        },
        "8b1e254e88a046bbb8e04b7bd9ea7737": {
          "model_module": "@jupyter-widgets/base",
          "model_name": "LayoutModel",
          "model_module_version": "1.2.0",
          "state": {
            "_model_module": "@jupyter-widgets/base",
            "_model_module_version": "1.2.0",
            "_model_name": "LayoutModel",
            "_view_count": null,
            "_view_module": "@jupyter-widgets/base",
            "_view_module_version": "1.2.0",
            "_view_name": "LayoutView",
            "align_content": null,
            "align_items": null,
            "align_self": null,
            "border": null,
            "bottom": null,
            "display": null,
            "flex": null,
            "flex_flow": null,
            "grid_area": null,
            "grid_auto_columns": null,
            "grid_auto_flow": null,
            "grid_auto_rows": null,
            "grid_column": null,
            "grid_gap": null,
            "grid_row": null,
            "grid_template_areas": null,
            "grid_template_columns": null,
            "grid_template_rows": null,
            "height": null,
            "justify_content": null,
            "justify_items": null,
            "left": null,
            "margin": null,
            "max_height": null,
            "max_width": null,
            "min_height": null,
            "min_width": null,
            "object_fit": null,
            "object_position": null,
            "order": null,
            "overflow": null,
            "overflow_x": null,
            "overflow_y": null,
            "padding": null,
            "right": null,
            "top": null,
            "visibility": null,
            "width": null
          }
        },
        "788ae67564814044b655cc60ce0b11cb": {
          "model_module": "@jupyter-widgets/base",
          "model_name": "LayoutModel",
          "model_module_version": "1.2.0",
          "state": {
            "_model_module": "@jupyter-widgets/base",
            "_model_module_version": "1.2.0",
            "_model_name": "LayoutModel",
            "_view_count": null,
            "_view_module": "@jupyter-widgets/base",
            "_view_module_version": "1.2.0",
            "_view_name": "LayoutView",
            "align_content": null,
            "align_items": null,
            "align_self": null,
            "border": null,
            "bottom": null,
            "display": null,
            "flex": null,
            "flex_flow": null,
            "grid_area": null,
            "grid_auto_columns": null,
            "grid_auto_flow": null,
            "grid_auto_rows": null,
            "grid_column": null,
            "grid_gap": null,
            "grid_row": null,
            "grid_template_areas": null,
            "grid_template_columns": null,
            "grid_template_rows": null,
            "height": null,
            "justify_content": null,
            "justify_items": null,
            "left": null,
            "margin": null,
            "max_height": null,
            "max_width": null,
            "min_height": null,
            "min_width": null,
            "object_fit": null,
            "object_position": null,
            "order": null,
            "overflow": null,
            "overflow_x": null,
            "overflow_y": null,
            "padding": null,
            "right": null,
            "top": null,
            "visibility": null,
            "width": null
          }
        },
        "c201a732ee9b4de782f1944e6f58ab74": {
          "model_module": "@jupyter-widgets/controls",
          "model_name": "DescriptionStyleModel",
          "model_module_version": "1.5.0",
          "state": {
            "_model_module": "@jupyter-widgets/controls",
            "_model_module_version": "1.5.0",
            "_model_name": "DescriptionStyleModel",
            "_view_count": null,
            "_view_module": "@jupyter-widgets/base",
            "_view_module_version": "1.2.0",
            "_view_name": "StyleView",
            "description_width": ""
          }
        },
        "1530b26b09ea4de886140bc116e55d81": {
          "model_module": "@jupyter-widgets/base",
          "model_name": "LayoutModel",
          "model_module_version": "1.2.0",
          "state": {
            "_model_module": "@jupyter-widgets/base",
            "_model_module_version": "1.2.0",
            "_model_name": "LayoutModel",
            "_view_count": null,
            "_view_module": "@jupyter-widgets/base",
            "_view_module_version": "1.2.0",
            "_view_name": "LayoutView",
            "align_content": null,
            "align_items": null,
            "align_self": null,
            "border": null,
            "bottom": null,
            "display": null,
            "flex": null,
            "flex_flow": null,
            "grid_area": null,
            "grid_auto_columns": null,
            "grid_auto_flow": null,
            "grid_auto_rows": null,
            "grid_column": null,
            "grid_gap": null,
            "grid_row": null,
            "grid_template_areas": null,
            "grid_template_columns": null,
            "grid_template_rows": null,
            "height": null,
            "justify_content": null,
            "justify_items": null,
            "left": null,
            "margin": null,
            "max_height": null,
            "max_width": null,
            "min_height": null,
            "min_width": null,
            "object_fit": null,
            "object_position": null,
            "order": null,
            "overflow": null,
            "overflow_x": null,
            "overflow_y": null,
            "padding": null,
            "right": null,
            "top": null,
            "visibility": null,
            "width": null
          }
        },
        "c3b6783db31c4e3aa09f384b7bd37c45": {
          "model_module": "@jupyter-widgets/controls",
          "model_name": "ProgressStyleModel",
          "model_module_version": "1.5.0",
          "state": {
            "_model_module": "@jupyter-widgets/controls",
            "_model_module_version": "1.5.0",
            "_model_name": "ProgressStyleModel",
            "_view_count": null,
            "_view_module": "@jupyter-widgets/base",
            "_view_module_version": "1.2.0",
            "_view_name": "StyleView",
            "bar_color": null,
            "description_width": ""
          }
        },
        "513da873c140422d9bf36801cba02e6c": {
          "model_module": "@jupyter-widgets/base",
          "model_name": "LayoutModel",
          "model_module_version": "1.2.0",
          "state": {
            "_model_module": "@jupyter-widgets/base",
            "_model_module_version": "1.2.0",
            "_model_name": "LayoutModel",
            "_view_count": null,
            "_view_module": "@jupyter-widgets/base",
            "_view_module_version": "1.2.0",
            "_view_name": "LayoutView",
            "align_content": null,
            "align_items": null,
            "align_self": null,
            "border": null,
            "bottom": null,
            "display": null,
            "flex": null,
            "flex_flow": null,
            "grid_area": null,
            "grid_auto_columns": null,
            "grid_auto_flow": null,
            "grid_auto_rows": null,
            "grid_column": null,
            "grid_gap": null,
            "grid_row": null,
            "grid_template_areas": null,
            "grid_template_columns": null,
            "grid_template_rows": null,
            "height": null,
            "justify_content": null,
            "justify_items": null,
            "left": null,
            "margin": null,
            "max_height": null,
            "max_width": null,
            "min_height": null,
            "min_width": null,
            "object_fit": null,
            "object_position": null,
            "order": null,
            "overflow": null,
            "overflow_x": null,
            "overflow_y": null,
            "padding": null,
            "right": null,
            "top": null,
            "visibility": null,
            "width": null
          }
        },
        "6501ea1c23e4441fa92303ae1298fbc7": {
          "model_module": "@jupyter-widgets/controls",
          "model_name": "DescriptionStyleModel",
          "model_module_version": "1.5.0",
          "state": {
            "_model_module": "@jupyter-widgets/controls",
            "_model_module_version": "1.5.0",
            "_model_name": "DescriptionStyleModel",
            "_view_count": null,
            "_view_module": "@jupyter-widgets/base",
            "_view_module_version": "1.2.0",
            "_view_name": "StyleView",
            "description_width": ""
          }
        },
        "d4e0cbeaa8f0427c8a744fa4519b467a": {
          "model_module": "@jupyter-widgets/controls",
          "model_name": "HBoxModel",
          "model_module_version": "1.5.0",
          "state": {
            "_dom_classes": [],
            "_model_module": "@jupyter-widgets/controls",
            "_model_module_version": "1.5.0",
            "_model_name": "HBoxModel",
            "_view_count": null,
            "_view_module": "@jupyter-widgets/controls",
            "_view_module_version": "1.5.0",
            "_view_name": "HBoxView",
            "box_style": "",
            "children": [
              "IPY_MODEL_e12410c0f77644028f985e49597d3ad2",
              "IPY_MODEL_4c1217ab4fb1410f8203a5fb10337a75",
              "IPY_MODEL_cca6e9544f2b4b8f972d27674a7bab5f"
            ],
            "layout": "IPY_MODEL_5f2524723cd24e9ba0c835b416f4a710"
          }
        },
        "e12410c0f77644028f985e49597d3ad2": {
          "model_module": "@jupyter-widgets/controls",
          "model_name": "HTMLModel",
          "model_module_version": "1.5.0",
          "state": {
            "_dom_classes": [],
            "_model_module": "@jupyter-widgets/controls",
            "_model_module_version": "1.5.0",
            "_model_name": "HTMLModel",
            "_view_count": null,
            "_view_module": "@jupyter-widgets/controls",
            "_view_module_version": "1.5.0",
            "_view_name": "HTMLView",
            "description": "",
            "description_tooltip": null,
            "layout": "IPY_MODEL_1f22e69a4baf4aa1958148d4e32673ee",
            "placeholder": "​",
            "style": "IPY_MODEL_cbe4229d63104d869841617f238f17db",
            "value": "Downloading: 100%"
          }
        },
        "4c1217ab4fb1410f8203a5fb10337a75": {
          "model_module": "@jupyter-widgets/controls",
          "model_name": "FloatProgressModel",
          "model_module_version": "1.5.0",
          "state": {
            "_dom_classes": [],
            "_model_module": "@jupyter-widgets/controls",
            "_model_module_version": "1.5.0",
            "_model_name": "FloatProgressModel",
            "_view_count": null,
            "_view_module": "@jupyter-widgets/controls",
            "_view_module_version": "1.5.0",
            "_view_name": "ProgressView",
            "bar_style": "success",
            "description": "",
            "description_tooltip": null,
            "layout": "IPY_MODEL_69e97ab2a41b44fb8db92111727dd46d",
            "max": 456318,
            "min": 0,
            "orientation": "horizontal",
            "style": "IPY_MODEL_b244116cfd4343d5a1abe95fee9f7e26",
            "value": 456318
          }
        },
        "cca6e9544f2b4b8f972d27674a7bab5f": {
          "model_module": "@jupyter-widgets/controls",
          "model_name": "HTMLModel",
          "model_module_version": "1.5.0",
          "state": {
            "_dom_classes": [],
            "_model_module": "@jupyter-widgets/controls",
            "_model_module_version": "1.5.0",
            "_model_name": "HTMLModel",
            "_view_count": null,
            "_view_module": "@jupyter-widgets/controls",
            "_view_module_version": "1.5.0",
            "_view_name": "HTMLView",
            "description": "",
            "description_tooltip": null,
            "layout": "IPY_MODEL_18ed698a1a7a4c6facb58a88c5ae75a1",
            "placeholder": "​",
            "style": "IPY_MODEL_81878e2514d348eca738ccb4bb1d73a5",
            "value": " 456k/456k [00:00&lt;00:00, 585kB/s]"
          }
        },
        "5f2524723cd24e9ba0c835b416f4a710": {
          "model_module": "@jupyter-widgets/base",
          "model_name": "LayoutModel",
          "model_module_version": "1.2.0",
          "state": {
            "_model_module": "@jupyter-widgets/base",
            "_model_module_version": "1.2.0",
            "_model_name": "LayoutModel",
            "_view_count": null,
            "_view_module": "@jupyter-widgets/base",
            "_view_module_version": "1.2.0",
            "_view_name": "LayoutView",
            "align_content": null,
            "align_items": null,
            "align_self": null,
            "border": null,
            "bottom": null,
            "display": null,
            "flex": null,
            "flex_flow": null,
            "grid_area": null,
            "grid_auto_columns": null,
            "grid_auto_flow": null,
            "grid_auto_rows": null,
            "grid_column": null,
            "grid_gap": null,
            "grid_row": null,
            "grid_template_areas": null,
            "grid_template_columns": null,
            "grid_template_rows": null,
            "height": null,
            "justify_content": null,
            "justify_items": null,
            "left": null,
            "margin": null,
            "max_height": null,
            "max_width": null,
            "min_height": null,
            "min_width": null,
            "object_fit": null,
            "object_position": null,
            "order": null,
            "overflow": null,
            "overflow_x": null,
            "overflow_y": null,
            "padding": null,
            "right": null,
            "top": null,
            "visibility": null,
            "width": null
          }
        },
        "1f22e69a4baf4aa1958148d4e32673ee": {
          "model_module": "@jupyter-widgets/base",
          "model_name": "LayoutModel",
          "model_module_version": "1.2.0",
          "state": {
            "_model_module": "@jupyter-widgets/base",
            "_model_module_version": "1.2.0",
            "_model_name": "LayoutModel",
            "_view_count": null,
            "_view_module": "@jupyter-widgets/base",
            "_view_module_version": "1.2.0",
            "_view_name": "LayoutView",
            "align_content": null,
            "align_items": null,
            "align_self": null,
            "border": null,
            "bottom": null,
            "display": null,
            "flex": null,
            "flex_flow": null,
            "grid_area": null,
            "grid_auto_columns": null,
            "grid_auto_flow": null,
            "grid_auto_rows": null,
            "grid_column": null,
            "grid_gap": null,
            "grid_row": null,
            "grid_template_areas": null,
            "grid_template_columns": null,
            "grid_template_rows": null,
            "height": null,
            "justify_content": null,
            "justify_items": null,
            "left": null,
            "margin": null,
            "max_height": null,
            "max_width": null,
            "min_height": null,
            "min_width": null,
            "object_fit": null,
            "object_position": null,
            "order": null,
            "overflow": null,
            "overflow_x": null,
            "overflow_y": null,
            "padding": null,
            "right": null,
            "top": null,
            "visibility": null,
            "width": null
          }
        },
        "cbe4229d63104d869841617f238f17db": {
          "model_module": "@jupyter-widgets/controls",
          "model_name": "DescriptionStyleModel",
          "model_module_version": "1.5.0",
          "state": {
            "_model_module": "@jupyter-widgets/controls",
            "_model_module_version": "1.5.0",
            "_model_name": "DescriptionStyleModel",
            "_view_count": null,
            "_view_module": "@jupyter-widgets/base",
            "_view_module_version": "1.2.0",
            "_view_name": "StyleView",
            "description_width": ""
          }
        },
        "69e97ab2a41b44fb8db92111727dd46d": {
          "model_module": "@jupyter-widgets/base",
          "model_name": "LayoutModel",
          "model_module_version": "1.2.0",
          "state": {
            "_model_module": "@jupyter-widgets/base",
            "_model_module_version": "1.2.0",
            "_model_name": "LayoutModel",
            "_view_count": null,
            "_view_module": "@jupyter-widgets/base",
            "_view_module_version": "1.2.0",
            "_view_name": "LayoutView",
            "align_content": null,
            "align_items": null,
            "align_self": null,
            "border": null,
            "bottom": null,
            "display": null,
            "flex": null,
            "flex_flow": null,
            "grid_area": null,
            "grid_auto_columns": null,
            "grid_auto_flow": null,
            "grid_auto_rows": null,
            "grid_column": null,
            "grid_gap": null,
            "grid_row": null,
            "grid_template_areas": null,
            "grid_template_columns": null,
            "grid_template_rows": null,
            "height": null,
            "justify_content": null,
            "justify_items": null,
            "left": null,
            "margin": null,
            "max_height": null,
            "max_width": null,
            "min_height": null,
            "min_width": null,
            "object_fit": null,
            "object_position": null,
            "order": null,
            "overflow": null,
            "overflow_x": null,
            "overflow_y": null,
            "padding": null,
            "right": null,
            "top": null,
            "visibility": null,
            "width": null
          }
        },
        "b244116cfd4343d5a1abe95fee9f7e26": {
          "model_module": "@jupyter-widgets/controls",
          "model_name": "ProgressStyleModel",
          "model_module_version": "1.5.0",
          "state": {
            "_model_module": "@jupyter-widgets/controls",
            "_model_module_version": "1.5.0",
            "_model_name": "ProgressStyleModel",
            "_view_count": null,
            "_view_module": "@jupyter-widgets/base",
            "_view_module_version": "1.2.0",
            "_view_name": "StyleView",
            "bar_color": null,
            "description_width": ""
          }
        },
        "18ed698a1a7a4c6facb58a88c5ae75a1": {
          "model_module": "@jupyter-widgets/base",
          "model_name": "LayoutModel",
          "model_module_version": "1.2.0",
          "state": {
            "_model_module": "@jupyter-widgets/base",
            "_model_module_version": "1.2.0",
            "_model_name": "LayoutModel",
            "_view_count": null,
            "_view_module": "@jupyter-widgets/base",
            "_view_module_version": "1.2.0",
            "_view_name": "LayoutView",
            "align_content": null,
            "align_items": null,
            "align_self": null,
            "border": null,
            "bottom": null,
            "display": null,
            "flex": null,
            "flex_flow": null,
            "grid_area": null,
            "grid_auto_columns": null,
            "grid_auto_flow": null,
            "grid_auto_rows": null,
            "grid_column": null,
            "grid_gap": null,
            "grid_row": null,
            "grid_template_areas": null,
            "grid_template_columns": null,
            "grid_template_rows": null,
            "height": null,
            "justify_content": null,
            "justify_items": null,
            "left": null,
            "margin": null,
            "max_height": null,
            "max_width": null,
            "min_height": null,
            "min_width": null,
            "object_fit": null,
            "object_position": null,
            "order": null,
            "overflow": null,
            "overflow_x": null,
            "overflow_y": null,
            "padding": null,
            "right": null,
            "top": null,
            "visibility": null,
            "width": null
          }
        },
        "81878e2514d348eca738ccb4bb1d73a5": {
          "model_module": "@jupyter-widgets/controls",
          "model_name": "DescriptionStyleModel",
          "model_module_version": "1.5.0",
          "state": {
            "_model_module": "@jupyter-widgets/controls",
            "_model_module_version": "1.5.0",
            "_model_name": "DescriptionStyleModel",
            "_view_count": null,
            "_view_module": "@jupyter-widgets/base",
            "_view_module_version": "1.2.0",
            "_view_name": "StyleView",
            "description_width": ""
          }
        },
        "51e0bbc212584b6ab84fe0cde1b8e399": {
          "model_module": "@jupyter-widgets/controls",
          "model_name": "HBoxModel",
          "model_module_version": "1.5.0",
          "state": {
            "_dom_classes": [],
            "_model_module": "@jupyter-widgets/controls",
            "_model_module_version": "1.5.0",
            "_model_name": "HBoxModel",
            "_view_count": null,
            "_view_module": "@jupyter-widgets/controls",
            "_view_module_version": "1.5.0",
            "_view_name": "HBoxView",
            "box_style": "",
            "children": [
              "IPY_MODEL_002d5ffb47424d9bbeed25a601fc14a6",
              "IPY_MODEL_4026506c55d9466b87048c0c953b1605",
              "IPY_MODEL_179d3e36baec47eaa4a65e9131dc9f56"
            ],
            "layout": "IPY_MODEL_47ea67435da24c7aa6b8a92bce4c804a"
          }
        },
        "002d5ffb47424d9bbeed25a601fc14a6": {
          "model_module": "@jupyter-widgets/controls",
          "model_name": "HTMLModel",
          "model_module_version": "1.5.0",
          "state": {
            "_dom_classes": [],
            "_model_module": "@jupyter-widgets/controls",
            "_model_module_version": "1.5.0",
            "_model_name": "HTMLModel",
            "_view_count": null,
            "_view_module": "@jupyter-widgets/controls",
            "_view_module_version": "1.5.0",
            "_view_name": "HTMLView",
            "description": "",
            "description_tooltip": null,
            "layout": "IPY_MODEL_948b3c0b5d344188b4b8c34f1d5f5753",
            "placeholder": "​",
            "style": "IPY_MODEL_913fb78c782d4d97b81e90179a4f5e4f",
            "value": "Downloading: 100%"
          }
        },
        "4026506c55d9466b87048c0c953b1605": {
          "model_module": "@jupyter-widgets/controls",
          "model_name": "FloatProgressModel",
          "model_module_version": "1.5.0",
          "state": {
            "_dom_classes": [],
            "_model_module": "@jupyter-widgets/controls",
            "_model_module_version": "1.5.0",
            "_model_name": "FloatProgressModel",
            "_view_count": null,
            "_view_module": "@jupyter-widgets/controls",
            "_view_module_version": "1.5.0",
            "_view_name": "ProgressView",
            "bar_style": "success",
            "description": "",
            "description_tooltip": null,
            "layout": "IPY_MODEL_c63ad02f1f5f4f8c81a4455fc35a32d5",
            "max": 1585,
            "min": 0,
            "orientation": "horizontal",
            "style": "IPY_MODEL_d479dd5c47a54b56a950c79ee95c9fc9",
            "value": 1585
          }
        },
        "179d3e36baec47eaa4a65e9131dc9f56": {
          "model_module": "@jupyter-widgets/controls",
          "model_name": "HTMLModel",
          "model_module_version": "1.5.0",
          "state": {
            "_dom_classes": [],
            "_model_module": "@jupyter-widgets/controls",
            "_model_module_version": "1.5.0",
            "_model_name": "HTMLModel",
            "_view_count": null,
            "_view_module": "@jupyter-widgets/controls",
            "_view_module_version": "1.5.0",
            "_view_name": "HTMLView",
            "description": "",
            "description_tooltip": null,
            "layout": "IPY_MODEL_666dc1e6cb0f4d249077f5c4051de212",
            "placeholder": "​",
            "style": "IPY_MODEL_f48f29eadb5b42a198590a7560f94806",
            "value": " 1.58k/1.58k [00:00&lt;00:00, 6.39kB/s]"
          }
        },
        "47ea67435da24c7aa6b8a92bce4c804a": {
          "model_module": "@jupyter-widgets/base",
          "model_name": "LayoutModel",
          "model_module_version": "1.2.0",
          "state": {
            "_model_module": "@jupyter-widgets/base",
            "_model_module_version": "1.2.0",
            "_model_name": "LayoutModel",
            "_view_count": null,
            "_view_module": "@jupyter-widgets/base",
            "_view_module_version": "1.2.0",
            "_view_name": "LayoutView",
            "align_content": null,
            "align_items": null,
            "align_self": null,
            "border": null,
            "bottom": null,
            "display": null,
            "flex": null,
            "flex_flow": null,
            "grid_area": null,
            "grid_auto_columns": null,
            "grid_auto_flow": null,
            "grid_auto_rows": null,
            "grid_column": null,
            "grid_gap": null,
            "grid_row": null,
            "grid_template_areas": null,
            "grid_template_columns": null,
            "grid_template_rows": null,
            "height": null,
            "justify_content": null,
            "justify_items": null,
            "left": null,
            "margin": null,
            "max_height": null,
            "max_width": null,
            "min_height": null,
            "min_width": null,
            "object_fit": null,
            "object_position": null,
            "order": null,
            "overflow": null,
            "overflow_x": null,
            "overflow_y": null,
            "padding": null,
            "right": null,
            "top": null,
            "visibility": null,
            "width": null
          }
        },
        "948b3c0b5d344188b4b8c34f1d5f5753": {
          "model_module": "@jupyter-widgets/base",
          "model_name": "LayoutModel",
          "model_module_version": "1.2.0",
          "state": {
            "_model_module": "@jupyter-widgets/base",
            "_model_module_version": "1.2.0",
            "_model_name": "LayoutModel",
            "_view_count": null,
            "_view_module": "@jupyter-widgets/base",
            "_view_module_version": "1.2.0",
            "_view_name": "LayoutView",
            "align_content": null,
            "align_items": null,
            "align_self": null,
            "border": null,
            "bottom": null,
            "display": null,
            "flex": null,
            "flex_flow": null,
            "grid_area": null,
            "grid_auto_columns": null,
            "grid_auto_flow": null,
            "grid_auto_rows": null,
            "grid_column": null,
            "grid_gap": null,
            "grid_row": null,
            "grid_template_areas": null,
            "grid_template_columns": null,
            "grid_template_rows": null,
            "height": null,
            "justify_content": null,
            "justify_items": null,
            "left": null,
            "margin": null,
            "max_height": null,
            "max_width": null,
            "min_height": null,
            "min_width": null,
            "object_fit": null,
            "object_position": null,
            "order": null,
            "overflow": null,
            "overflow_x": null,
            "overflow_y": null,
            "padding": null,
            "right": null,
            "top": null,
            "visibility": null,
            "width": null
          }
        },
        "913fb78c782d4d97b81e90179a4f5e4f": {
          "model_module": "@jupyter-widgets/controls",
          "model_name": "DescriptionStyleModel",
          "model_module_version": "1.5.0",
          "state": {
            "_model_module": "@jupyter-widgets/controls",
            "_model_module_version": "1.5.0",
            "_model_name": "DescriptionStyleModel",
            "_view_count": null,
            "_view_module": "@jupyter-widgets/base",
            "_view_module_version": "1.2.0",
            "_view_name": "StyleView",
            "description_width": ""
          }
        },
        "c63ad02f1f5f4f8c81a4455fc35a32d5": {
          "model_module": "@jupyter-widgets/base",
          "model_name": "LayoutModel",
          "model_module_version": "1.2.0",
          "state": {
            "_model_module": "@jupyter-widgets/base",
            "_model_module_version": "1.2.0",
            "_model_name": "LayoutModel",
            "_view_count": null,
            "_view_module": "@jupyter-widgets/base",
            "_view_module_version": "1.2.0",
            "_view_name": "LayoutView",
            "align_content": null,
            "align_items": null,
            "align_self": null,
            "border": null,
            "bottom": null,
            "display": null,
            "flex": null,
            "flex_flow": null,
            "grid_area": null,
            "grid_auto_columns": null,
            "grid_auto_flow": null,
            "grid_auto_rows": null,
            "grid_column": null,
            "grid_gap": null,
            "grid_row": null,
            "grid_template_areas": null,
            "grid_template_columns": null,
            "grid_template_rows": null,
            "height": null,
            "justify_content": null,
            "justify_items": null,
            "left": null,
            "margin": null,
            "max_height": null,
            "max_width": null,
            "min_height": null,
            "min_width": null,
            "object_fit": null,
            "object_position": null,
            "order": null,
            "overflow": null,
            "overflow_x": null,
            "overflow_y": null,
            "padding": null,
            "right": null,
            "top": null,
            "visibility": null,
            "width": null
          }
        },
        "d479dd5c47a54b56a950c79ee95c9fc9": {
          "model_module": "@jupyter-widgets/controls",
          "model_name": "ProgressStyleModel",
          "model_module_version": "1.5.0",
          "state": {
            "_model_module": "@jupyter-widgets/controls",
            "_model_module_version": "1.5.0",
            "_model_name": "ProgressStyleModel",
            "_view_count": null,
            "_view_module": "@jupyter-widgets/base",
            "_view_module_version": "1.2.0",
            "_view_name": "StyleView",
            "bar_color": null,
            "description_width": ""
          }
        },
        "666dc1e6cb0f4d249077f5c4051de212": {
          "model_module": "@jupyter-widgets/base",
          "model_name": "LayoutModel",
          "model_module_version": "1.2.0",
          "state": {
            "_model_module": "@jupyter-widgets/base",
            "_model_module_version": "1.2.0",
            "_model_name": "LayoutModel",
            "_view_count": null,
            "_view_module": "@jupyter-widgets/base",
            "_view_module_version": "1.2.0",
            "_view_name": "LayoutView",
            "align_content": null,
            "align_items": null,
            "align_self": null,
            "border": null,
            "bottom": null,
            "display": null,
            "flex": null,
            "flex_flow": null,
            "grid_area": null,
            "grid_auto_columns": null,
            "grid_auto_flow": null,
            "grid_auto_rows": null,
            "grid_column": null,
            "grid_gap": null,
            "grid_row": null,
            "grid_template_areas": null,
            "grid_template_columns": null,
            "grid_template_rows": null,
            "height": null,
            "justify_content": null,
            "justify_items": null,
            "left": null,
            "margin": null,
            "max_height": null,
            "max_width": null,
            "min_height": null,
            "min_width": null,
            "object_fit": null,
            "object_position": null,
            "order": null,
            "overflow": null,
            "overflow_x": null,
            "overflow_y": null,
            "padding": null,
            "right": null,
            "top": null,
            "visibility": null,
            "width": null
          }
        },
        "f48f29eadb5b42a198590a7560f94806": {
          "model_module": "@jupyter-widgets/controls",
          "model_name": "DescriptionStyleModel",
          "model_module_version": "1.5.0",
          "state": {
            "_model_module": "@jupyter-widgets/controls",
            "_model_module_version": "1.5.0",
            "_model_name": "DescriptionStyleModel",
            "_view_count": null,
            "_view_module": "@jupyter-widgets/base",
            "_view_module_version": "1.2.0",
            "_view_name": "StyleView",
            "description_width": ""
          }
        },
        "df9519fea8ac4d60bac70eb87d9a28e7": {
          "model_module": "@jupyter-widgets/controls",
          "model_name": "HBoxModel",
          "model_module_version": "1.5.0",
          "state": {
            "_dom_classes": [],
            "_model_module": "@jupyter-widgets/controls",
            "_model_module_version": "1.5.0",
            "_model_name": "HBoxModel",
            "_view_count": null,
            "_view_module": "@jupyter-widgets/controls",
            "_view_module_version": "1.5.0",
            "_view_name": "HBoxView",
            "box_style": "",
            "children": [
              "IPY_MODEL_8e972e4ab246400fb214b1b7118e0ba5",
              "IPY_MODEL_7b028b1b0bc04c0fa00f7b010c3db51f",
              "IPY_MODEL_182276540552447ebfd39cc6ee6f3af7"
            ],
            "layout": "IPY_MODEL_1a04f372ee5f47839532106e1b97de5c"
          }
        },
        "8e972e4ab246400fb214b1b7118e0ba5": {
          "model_module": "@jupyter-widgets/controls",
          "model_name": "HTMLModel",
          "model_module_version": "1.5.0",
          "state": {
            "_dom_classes": [],
            "_model_module": "@jupyter-widgets/controls",
            "_model_module_version": "1.5.0",
            "_model_name": "HTMLModel",
            "_view_count": null,
            "_view_module": "@jupyter-widgets/controls",
            "_view_module_version": "1.5.0",
            "_view_name": "HTMLView",
            "description": "",
            "description_tooltip": null,
            "layout": "IPY_MODEL_11b40d3150da42438eb818340c7d9d9b",
            "placeholder": "​",
            "style": "IPY_MODEL_6e6e4fd35bb04fcb9628105cf574528b",
            "value": "Downloading: 100%"
          }
        },
        "7b028b1b0bc04c0fa00f7b010c3db51f": {
          "model_module": "@jupyter-widgets/controls",
          "model_name": "FloatProgressModel",
          "model_module_version": "1.5.0",
          "state": {
            "_dom_classes": [],
            "_model_module": "@jupyter-widgets/controls",
            "_model_module_version": "1.5.0",
            "_model_name": "FloatProgressModel",
            "_view_count": null,
            "_view_module": "@jupyter-widgets/controls",
            "_view_module_version": "1.5.0",
            "_view_name": "ProgressView",
            "bar_style": "success",
            "description": "",
            "description_tooltip": null,
            "layout": "IPY_MODEL_d4d5c79727184eceabcd5d510a7ba285",
            "max": 1625270765,
            "min": 0,
            "orientation": "horizontal",
            "style": "IPY_MODEL_af78179e4060452bab056a7a751faee4",
            "value": 1625270765
          }
        },
        "182276540552447ebfd39cc6ee6f3af7": {
          "model_module": "@jupyter-widgets/controls",
          "model_name": "HTMLModel",
          "model_module_version": "1.5.0",
          "state": {
            "_dom_classes": [],
            "_model_module": "@jupyter-widgets/controls",
            "_model_module_version": "1.5.0",
            "_model_name": "HTMLModel",
            "_view_count": null,
            "_view_module": "@jupyter-widgets/controls",
            "_view_module_version": "1.5.0",
            "_view_name": "HTMLView",
            "description": "",
            "description_tooltip": null,
            "layout": "IPY_MODEL_f68c94bedeba4dd1920fb3b61356dd56",
            "placeholder": "​",
            "style": "IPY_MODEL_5c632b06ed484ad6bc80093fdf023875",
            "value": " 1.63G/1.63G [01:18&lt;00:00, 36.6MB/s]"
          }
        },
        "1a04f372ee5f47839532106e1b97de5c": {
          "model_module": "@jupyter-widgets/base",
          "model_name": "LayoutModel",
          "model_module_version": "1.2.0",
          "state": {
            "_model_module": "@jupyter-widgets/base",
            "_model_module_version": "1.2.0",
            "_model_name": "LayoutModel",
            "_view_count": null,
            "_view_module": "@jupyter-widgets/base",
            "_view_module_version": "1.2.0",
            "_view_name": "LayoutView",
            "align_content": null,
            "align_items": null,
            "align_self": null,
            "border": null,
            "bottom": null,
            "display": null,
            "flex": null,
            "flex_flow": null,
            "grid_area": null,
            "grid_auto_columns": null,
            "grid_auto_flow": null,
            "grid_auto_rows": null,
            "grid_column": null,
            "grid_gap": null,
            "grid_row": null,
            "grid_template_areas": null,
            "grid_template_columns": null,
            "grid_template_rows": null,
            "height": null,
            "justify_content": null,
            "justify_items": null,
            "left": null,
            "margin": null,
            "max_height": null,
            "max_width": null,
            "min_height": null,
            "min_width": null,
            "object_fit": null,
            "object_position": null,
            "order": null,
            "overflow": null,
            "overflow_x": null,
            "overflow_y": null,
            "padding": null,
            "right": null,
            "top": null,
            "visibility": null,
            "width": null
          }
        },
        "11b40d3150da42438eb818340c7d9d9b": {
          "model_module": "@jupyter-widgets/base",
          "model_name": "LayoutModel",
          "model_module_version": "1.2.0",
          "state": {
            "_model_module": "@jupyter-widgets/base",
            "_model_module_version": "1.2.0",
            "_model_name": "LayoutModel",
            "_view_count": null,
            "_view_module": "@jupyter-widgets/base",
            "_view_module_version": "1.2.0",
            "_view_name": "LayoutView",
            "align_content": null,
            "align_items": null,
            "align_self": null,
            "border": null,
            "bottom": null,
            "display": null,
            "flex": null,
            "flex_flow": null,
            "grid_area": null,
            "grid_auto_columns": null,
            "grid_auto_flow": null,
            "grid_auto_rows": null,
            "grid_column": null,
            "grid_gap": null,
            "grid_row": null,
            "grid_template_areas": null,
            "grid_template_columns": null,
            "grid_template_rows": null,
            "height": null,
            "justify_content": null,
            "justify_items": null,
            "left": null,
            "margin": null,
            "max_height": null,
            "max_width": null,
            "min_height": null,
            "min_width": null,
            "object_fit": null,
            "object_position": null,
            "order": null,
            "overflow": null,
            "overflow_x": null,
            "overflow_y": null,
            "padding": null,
            "right": null,
            "top": null,
            "visibility": null,
            "width": null
          }
        },
        "6e6e4fd35bb04fcb9628105cf574528b": {
          "model_module": "@jupyter-widgets/controls",
          "model_name": "DescriptionStyleModel",
          "model_module_version": "1.5.0",
          "state": {
            "_model_module": "@jupyter-widgets/controls",
            "_model_module_version": "1.5.0",
            "_model_name": "DescriptionStyleModel",
            "_view_count": null,
            "_view_module": "@jupyter-widgets/base",
            "_view_module_version": "1.2.0",
            "_view_name": "StyleView",
            "description_width": ""
          }
        },
        "d4d5c79727184eceabcd5d510a7ba285": {
          "model_module": "@jupyter-widgets/base",
          "model_name": "LayoutModel",
          "model_module_version": "1.2.0",
          "state": {
            "_model_module": "@jupyter-widgets/base",
            "_model_module_version": "1.2.0",
            "_model_name": "LayoutModel",
            "_view_count": null,
            "_view_module": "@jupyter-widgets/base",
            "_view_module_version": "1.2.0",
            "_view_name": "LayoutView",
            "align_content": null,
            "align_items": null,
            "align_self": null,
            "border": null,
            "bottom": null,
            "display": null,
            "flex": null,
            "flex_flow": null,
            "grid_area": null,
            "grid_auto_columns": null,
            "grid_auto_flow": null,
            "grid_auto_rows": null,
            "grid_column": null,
            "grid_gap": null,
            "grid_row": null,
            "grid_template_areas": null,
            "grid_template_columns": null,
            "grid_template_rows": null,
            "height": null,
            "justify_content": null,
            "justify_items": null,
            "left": null,
            "margin": null,
            "max_height": null,
            "max_width": null,
            "min_height": null,
            "min_width": null,
            "object_fit": null,
            "object_position": null,
            "order": null,
            "overflow": null,
            "overflow_x": null,
            "overflow_y": null,
            "padding": null,
            "right": null,
            "top": null,
            "visibility": null,
            "width": null
          }
        },
        "af78179e4060452bab056a7a751faee4": {
          "model_module": "@jupyter-widgets/controls",
          "model_name": "ProgressStyleModel",
          "model_module_version": "1.5.0",
          "state": {
            "_model_module": "@jupyter-widgets/controls",
            "_model_module_version": "1.5.0",
            "_model_name": "ProgressStyleModel",
            "_view_count": null,
            "_view_module": "@jupyter-widgets/base",
            "_view_module_version": "1.2.0",
            "_view_name": "StyleView",
            "bar_color": null,
            "description_width": ""
          }
        },
        "f68c94bedeba4dd1920fb3b61356dd56": {
          "model_module": "@jupyter-widgets/base",
          "model_name": "LayoutModel",
          "model_module_version": "1.2.0",
          "state": {
            "_model_module": "@jupyter-widgets/base",
            "_model_module_version": "1.2.0",
            "_model_name": "LayoutModel",
            "_view_count": null,
            "_view_module": "@jupyter-widgets/base",
            "_view_module_version": "1.2.0",
            "_view_name": "LayoutView",
            "align_content": null,
            "align_items": null,
            "align_self": null,
            "border": null,
            "bottom": null,
            "display": null,
            "flex": null,
            "flex_flow": null,
            "grid_area": null,
            "grid_auto_columns": null,
            "grid_auto_flow": null,
            "grid_auto_rows": null,
            "grid_column": null,
            "grid_gap": null,
            "grid_row": null,
            "grid_template_areas": null,
            "grid_template_columns": null,
            "grid_template_rows": null,
            "height": null,
            "justify_content": null,
            "justify_items": null,
            "left": null,
            "margin": null,
            "max_height": null,
            "max_width": null,
            "min_height": null,
            "min_width": null,
            "object_fit": null,
            "object_position": null,
            "order": null,
            "overflow": null,
            "overflow_x": null,
            "overflow_y": null,
            "padding": null,
            "right": null,
            "top": null,
            "visibility": null,
            "width": null
          }
        },
        "5c632b06ed484ad6bc80093fdf023875": {
          "model_module": "@jupyter-widgets/controls",
          "model_name": "DescriptionStyleModel",
          "model_module_version": "1.5.0",
          "state": {
            "_model_module": "@jupyter-widgets/controls",
            "_model_module_version": "1.5.0",
            "_model_name": "DescriptionStyleModel",
            "_view_count": null,
            "_view_module": "@jupyter-widgets/base",
            "_view_module_version": "1.2.0",
            "_view_name": "StyleView",
            "description_width": ""
          }
        },
        "0e79bd289f7a49c5abc52d7c5f2bf717": {
          "model_module": "@jupyter-widgets/controls",
          "model_name": "HBoxModel",
          "model_module_version": "1.5.0",
          "state": {
            "_dom_classes": [],
            "_model_module": "@jupyter-widgets/controls",
            "_model_module_version": "1.5.0",
            "_model_name": "HBoxModel",
            "_view_count": null,
            "_view_module": "@jupyter-widgets/controls",
            "_view_module_version": "1.5.0",
            "_view_name": "HBoxView",
            "box_style": "",
            "children": [
              "IPY_MODEL_1eb45f07b36a4a1ebed72cc7edfb3fe9",
              "IPY_MODEL_15b9ea807b524dff8f080b98c1ac9535",
              "IPY_MODEL_403596adbb0d445b8f1328dd44754e84"
            ],
            "layout": "IPY_MODEL_2389b48d4e174e30902040da3c74b7d3"
          }
        },
        "1eb45f07b36a4a1ebed72cc7edfb3fe9": {
          "model_module": "@jupyter-widgets/controls",
          "model_name": "HTMLModel",
          "model_module_version": "1.5.0",
          "state": {
            "_dom_classes": [],
            "_model_module": "@jupyter-widgets/controls",
            "_model_module_version": "1.5.0",
            "_model_name": "HTMLModel",
            "_view_count": null,
            "_view_module": "@jupyter-widgets/controls",
            "_view_module_version": "1.5.0",
            "_view_name": "HTMLView",
            "description": "",
            "description_tooltip": null,
            "layout": "IPY_MODEL_2251c859db074693b8fcbd7ca01bbb67",
            "placeholder": "​",
            "style": "IPY_MODEL_832cb37f2e32452b8faa9704fc407f8a",
            "value": "Downloading: 100%"
          }
        },
        "15b9ea807b524dff8f080b98c1ac9535": {
          "model_module": "@jupyter-widgets/controls",
          "model_name": "FloatProgressModel",
          "model_module_version": "1.5.0",
          "state": {
            "_dom_classes": [],
            "_model_module": "@jupyter-widgets/controls",
            "_model_module_version": "1.5.0",
            "_model_name": "FloatProgressModel",
            "_view_count": null,
            "_view_module": "@jupyter-widgets/controls",
            "_view_module_version": "1.5.0",
            "_view_name": "ProgressView",
            "bar_style": "success",
            "description": "",
            "description_tooltip": null,
            "layout": "IPY_MODEL_63a677e8d02a4c7b9f7aa6f01e0e6afc",
            "max": 1355863,
            "min": 0,
            "orientation": "horizontal",
            "style": "IPY_MODEL_7815eea13ae44addb318b75abc64dbb3",
            "value": 1355863
          }
        },
        "403596adbb0d445b8f1328dd44754e84": {
          "model_module": "@jupyter-widgets/controls",
          "model_name": "HTMLModel",
          "model_module_version": "1.5.0",
          "state": {
            "_dom_classes": [],
            "_model_module": "@jupyter-widgets/controls",
            "_model_module_version": "1.5.0",
            "_model_name": "HTMLModel",
            "_view_count": null,
            "_view_module": "@jupyter-widgets/controls",
            "_view_module_version": "1.5.0",
            "_view_name": "HTMLView",
            "description": "",
            "description_tooltip": null,
            "layout": "IPY_MODEL_454010bea4e447eb812e51067f06971f",
            "placeholder": "​",
            "style": "IPY_MODEL_07eeb9b073164373a6fef232099ee8ca",
            "value": " 1.36M/1.36M [00:01&lt;00:00, 1.68MB/s]"
          }
        },
        "2389b48d4e174e30902040da3c74b7d3": {
          "model_module": "@jupyter-widgets/base",
          "model_name": "LayoutModel",
          "model_module_version": "1.2.0",
          "state": {
            "_model_module": "@jupyter-widgets/base",
            "_model_module_version": "1.2.0",
            "_model_name": "LayoutModel",
            "_view_count": null,
            "_view_module": "@jupyter-widgets/base",
            "_view_module_version": "1.2.0",
            "_view_name": "LayoutView",
            "align_content": null,
            "align_items": null,
            "align_self": null,
            "border": null,
            "bottom": null,
            "display": null,
            "flex": null,
            "flex_flow": null,
            "grid_area": null,
            "grid_auto_columns": null,
            "grid_auto_flow": null,
            "grid_auto_rows": null,
            "grid_column": null,
            "grid_gap": null,
            "grid_row": null,
            "grid_template_areas": null,
            "grid_template_columns": null,
            "grid_template_rows": null,
            "height": null,
            "justify_content": null,
            "justify_items": null,
            "left": null,
            "margin": null,
            "max_height": null,
            "max_width": null,
            "min_height": null,
            "min_width": null,
            "object_fit": null,
            "object_position": null,
            "order": null,
            "overflow": null,
            "overflow_x": null,
            "overflow_y": null,
            "padding": null,
            "right": null,
            "top": null,
            "visibility": null,
            "width": null
          }
        },
        "2251c859db074693b8fcbd7ca01bbb67": {
          "model_module": "@jupyter-widgets/base",
          "model_name": "LayoutModel",
          "model_module_version": "1.2.0",
          "state": {
            "_model_module": "@jupyter-widgets/base",
            "_model_module_version": "1.2.0",
            "_model_name": "LayoutModel",
            "_view_count": null,
            "_view_module": "@jupyter-widgets/base",
            "_view_module_version": "1.2.0",
            "_view_name": "LayoutView",
            "align_content": null,
            "align_items": null,
            "align_self": null,
            "border": null,
            "bottom": null,
            "display": null,
            "flex": null,
            "flex_flow": null,
            "grid_area": null,
            "grid_auto_columns": null,
            "grid_auto_flow": null,
            "grid_auto_rows": null,
            "grid_column": null,
            "grid_gap": null,
            "grid_row": null,
            "grid_template_areas": null,
            "grid_template_columns": null,
            "grid_template_rows": null,
            "height": null,
            "justify_content": null,
            "justify_items": null,
            "left": null,
            "margin": null,
            "max_height": null,
            "max_width": null,
            "min_height": null,
            "min_width": null,
            "object_fit": null,
            "object_position": null,
            "order": null,
            "overflow": null,
            "overflow_x": null,
            "overflow_y": null,
            "padding": null,
            "right": null,
            "top": null,
            "visibility": null,
            "width": null
          }
        },
        "832cb37f2e32452b8faa9704fc407f8a": {
          "model_module": "@jupyter-widgets/controls",
          "model_name": "DescriptionStyleModel",
          "model_module_version": "1.5.0",
          "state": {
            "_model_module": "@jupyter-widgets/controls",
            "_model_module_version": "1.5.0",
            "_model_name": "DescriptionStyleModel",
            "_view_count": null,
            "_view_module": "@jupyter-widgets/base",
            "_view_module_version": "1.2.0",
            "_view_name": "StyleView",
            "description_width": ""
          }
        },
        "63a677e8d02a4c7b9f7aa6f01e0e6afc": {
          "model_module": "@jupyter-widgets/base",
          "model_name": "LayoutModel",
          "model_module_version": "1.2.0",
          "state": {
            "_model_module": "@jupyter-widgets/base",
            "_model_module_version": "1.2.0",
            "_model_name": "LayoutModel",
            "_view_count": null,
            "_view_module": "@jupyter-widgets/base",
            "_view_module_version": "1.2.0",
            "_view_name": "LayoutView",
            "align_content": null,
            "align_items": null,
            "align_self": null,
            "border": null,
            "bottom": null,
            "display": null,
            "flex": null,
            "flex_flow": null,
            "grid_area": null,
            "grid_auto_columns": null,
            "grid_auto_flow": null,
            "grid_auto_rows": null,
            "grid_column": null,
            "grid_gap": null,
            "grid_row": null,
            "grid_template_areas": null,
            "grid_template_columns": null,
            "grid_template_rows": null,
            "height": null,
            "justify_content": null,
            "justify_items": null,
            "left": null,
            "margin": null,
            "max_height": null,
            "max_width": null,
            "min_height": null,
            "min_width": null,
            "object_fit": null,
            "object_position": null,
            "order": null,
            "overflow": null,
            "overflow_x": null,
            "overflow_y": null,
            "padding": null,
            "right": null,
            "top": null,
            "visibility": null,
            "width": null
          }
        },
        "7815eea13ae44addb318b75abc64dbb3": {
          "model_module": "@jupyter-widgets/controls",
          "model_name": "ProgressStyleModel",
          "model_module_version": "1.5.0",
          "state": {
            "_model_module": "@jupyter-widgets/controls",
            "_model_module_version": "1.5.0",
            "_model_name": "ProgressStyleModel",
            "_view_count": null,
            "_view_module": "@jupyter-widgets/base",
            "_view_module_version": "1.2.0",
            "_view_name": "StyleView",
            "bar_color": null,
            "description_width": ""
          }
        },
        "454010bea4e447eb812e51067f06971f": {
          "model_module": "@jupyter-widgets/base",
          "model_name": "LayoutModel",
          "model_module_version": "1.2.0",
          "state": {
            "_model_module": "@jupyter-widgets/base",
            "_model_module_version": "1.2.0",
            "_model_name": "LayoutModel",
            "_view_count": null,
            "_view_module": "@jupyter-widgets/base",
            "_view_module_version": "1.2.0",
            "_view_name": "LayoutView",
            "align_content": null,
            "align_items": null,
            "align_self": null,
            "border": null,
            "bottom": null,
            "display": null,
            "flex": null,
            "flex_flow": null,
            "grid_area": null,
            "grid_auto_columns": null,
            "grid_auto_flow": null,
            "grid_auto_rows": null,
            "grid_column": null,
            "grid_gap": null,
            "grid_row": null,
            "grid_template_areas": null,
            "grid_template_columns": null,
            "grid_template_rows": null,
            "height": null,
            "justify_content": null,
            "justify_items": null,
            "left": null,
            "margin": null,
            "max_height": null,
            "max_width": null,
            "min_height": null,
            "min_width": null,
            "object_fit": null,
            "object_position": null,
            "order": null,
            "overflow": null,
            "overflow_x": null,
            "overflow_y": null,
            "padding": null,
            "right": null,
            "top": null,
            "visibility": null,
            "width": null
          }
        },
        "07eeb9b073164373a6fef232099ee8ca": {
          "model_module": "@jupyter-widgets/controls",
          "model_name": "DescriptionStyleModel",
          "model_module_version": "1.5.0",
          "state": {
            "_model_module": "@jupyter-widgets/controls",
            "_model_module_version": "1.5.0",
            "_model_name": "DescriptionStyleModel",
            "_view_count": null,
            "_view_module": "@jupyter-widgets/base",
            "_view_module_version": "1.2.0",
            "_view_name": "StyleView",
            "description_width": ""
          }
        }
      }
    }
  },
  "cells": [
    {
      "cell_type": "markdown",
      "metadata": {
        "id": "view-in-github",
        "colab_type": "text"
      },
      "source": [
        "<a href=\"https://colab.research.google.com/github/NBar05/youtube_summarizer/blob/main/2022_10_17_simple_strategies.ipynb\" target=\"_parent\"><img src=\"https://colab.research.google.com/assets/colab-badge.svg\" alt=\"Open In Colab\"/></a>"
      ]
    },
    {
      "cell_type": "markdown",
      "source": [
        "## Example for simple tests\n",
        "\n",
        "Yannic Kilcher: Did Google's LaMDA chatbot just become sentient?"
      ],
      "metadata": {
        "id": "roidZEEtC6nw"
      }
    },
    {
      "cell_type": "code",
      "source": [
        "unique_id = 'mIZLGBD99iU'\n",
        "link = f'https://www.youtube.com/watch?v={unique_id}'"
      ],
      "metadata": {
        "id": "Vy8W_Tu2C29W"
      },
      "execution_count": 1,
      "outputs": []
    },
    {
      "cell_type": "markdown",
      "source": [
        "## Transcript summary\n",
        "\n",
        "This baseline will based on:\n",
        "\n",
        "1. Transcript extraction via YouTubeTranscriptApi\n",
        "1. Summarization with pretrained BART"
      ],
      "metadata": {
        "id": "AKDSp2zCBzt0"
      }
    },
    {
      "cell_type": "markdown",
      "source": [
        "### Imports"
      ],
      "metadata": {
        "id": "ghibCU5L_9p9"
      }
    },
    {
      "cell_type": "code",
      "source": [
        "!pip3 -q install youtube_transcript_api\n",
        "!pip3 -q install transformers"
      ],
      "metadata": {
        "colab": {
          "base_uri": "https://localhost:8080/"
        },
        "id": "RYcUKl1F9oGp",
        "outputId": "1337318a-92b7-4a56-be5e-295404f4b3b0"
      },
      "execution_count": 2,
      "outputs": [
        {
          "output_type": "stream",
          "name": "stdout",
          "text": [
            "\u001b[K     |████████████████████████████████| 5.3 MB 4.6 MB/s \n",
            "\u001b[K     |████████████████████████████████| 163 kB 57.2 MB/s \n",
            "\u001b[K     |████████████████████████████████| 7.6 MB 36.1 MB/s \n",
            "\u001b[?25h"
          ]
        }
      ]
    },
    {
      "cell_type": "code",
      "source": [
        "from youtube_transcript_api import YouTubeTranscriptApi\n",
        "\n",
        "import transformers\n",
        "from transformers import BartTokenizer, BartForConditionalGeneration, pipeline"
      ],
      "metadata": {
        "id": "9JZgCXxd0YWQ"
      },
      "execution_count": 3,
      "outputs": []
    },
    {
      "cell_type": "markdown",
      "source": [
        "### Subtitles extraction"
      ],
      "metadata": {
        "id": "AqEsBQFuBGh-"
      }
    },
    {
      "cell_type": "code",
      "source": [
        "subtitles_by_intervals = YouTubeTranscriptApi.get_transcript(unique_id, languages=['en', 'ru'])  \n",
        "subtitles = \" \".join([x['text'] for x in subtitles_by_intervals])\n",
        "subtitles[:1000]"
      ],
      "metadata": {
        "colab": {
          "base_uri": "https://localhost:8080/",
          "height": 116
        },
        "id": "n-BEmbs29ZYI",
        "outputId": "098370f9-7efe-4dee-c9d4-5486667c5e58"
      },
      "execution_count": 4,
      "outputs": [
        {
          "output_type": "execute_result",
          "data": {
            "text/plain": [
              "\"google engineer put on leave after saying ai chatbot has become sentient this at least according to this guardian article right here blake lemmon who is an engineer at google has been put on leave because of sharing proprietary information that proprietary information is an interview that he and a collaborator have conducted with google's new lambda chatbot system so the story here is that blake who was tasked to test this new lambda system for bias inherent discrimination and things like this because obviously if google wants to release this model or give people access to the model they want to make sure that it doesn't do any kind of bad stuff so blake was tasked to figure out you know in what way the model could express such bad stuff but in the course of this he conducted many interviews with the model or what he calls interviews which is prompt and response sessions and he became convinced that this model was actually sentient that it was essentially a real person and he became an\""
            ],
            "application/vnd.google.colaboratory.intrinsic+json": {
              "type": "string"
            }
          },
          "metadata": {},
          "execution_count": 4
        }
      ]
    },
    {
      "cell_type": "markdown",
      "source": [
        "Possible problems:\n",
        "\n",
        "1. absence of subtitles for some videos\n",
        "2. need of multilingual model for postprocessing (if we don't narrow down target videos)\n",
        "3. absence of punctuation (see below)\n",
        "4. length variation (but good neural summarizer should deal with it)"
      ],
      "metadata": {
        "id": "IzknucUJD1rN"
      }
    },
    {
      "cell_type": "code",
      "source": [
        "import string\n",
        "print(string.punctuation, ''.join([p for p in string.punctuation if p in subtitles]), sep='\\t')"
      ],
      "metadata": {
        "colab": {
          "base_uri": "https://localhost:8080/"
        },
        "id": "jHSUwEG3D9nj",
        "outputId": "6e7f003b-3c3e-4b17-cd21-54adffa38e75"
      },
      "execution_count": 5,
      "outputs": [
        {
          "output_type": "stream",
          "name": "stdout",
          "text": [
            "!\"#$%&'()*+,-./:;<=>?@[\\]^_`{|}~\t'-\n"
          ]
        }
      ]
    },
    {
      "cell_type": "markdown",
      "source": [
        "### Model download"
      ],
      "metadata": {
        "id": "LB2ImJ4VBqqj"
      }
    },
    {
      "cell_type": "code",
      "source": [
        "model_name = 'facebook/bart-large-cnn' # can be any model which satisfies quality and inference constraints\n",
        "\n",
        "tokenizer = BartTokenizer.from_pretrained(model_name)\n",
        "model = BartForConditionalGeneration.from_pretrained(model_name)"
      ],
      "metadata": {
        "colab": {
          "base_uri": "https://localhost:8080/",
          "height": 144,
          "referenced_widgets": [
            "985021f2a7b94c019debdb33ae773ae5",
            "860e7485c02a4c1091cd4d4bb55ec6b0",
            "15483aa0da964dd99f996b17b4c89c55",
            "cd4bdccf29294250ba40c6f5f579992f",
            "8b1e254e88a046bbb8e04b7bd9ea7737",
            "788ae67564814044b655cc60ce0b11cb",
            "c201a732ee9b4de782f1944e6f58ab74",
            "1530b26b09ea4de886140bc116e55d81",
            "c3b6783db31c4e3aa09f384b7bd37c45",
            "513da873c140422d9bf36801cba02e6c",
            "6501ea1c23e4441fa92303ae1298fbc7",
            "d4e0cbeaa8f0427c8a744fa4519b467a",
            "e12410c0f77644028f985e49597d3ad2",
            "4c1217ab4fb1410f8203a5fb10337a75",
            "cca6e9544f2b4b8f972d27674a7bab5f",
            "5f2524723cd24e9ba0c835b416f4a710",
            "1f22e69a4baf4aa1958148d4e32673ee",
            "cbe4229d63104d869841617f238f17db",
            "69e97ab2a41b44fb8db92111727dd46d",
            "b244116cfd4343d5a1abe95fee9f7e26",
            "18ed698a1a7a4c6facb58a88c5ae75a1",
            "81878e2514d348eca738ccb4bb1d73a5",
            "51e0bbc212584b6ab84fe0cde1b8e399",
            "002d5ffb47424d9bbeed25a601fc14a6",
            "4026506c55d9466b87048c0c953b1605",
            "179d3e36baec47eaa4a65e9131dc9f56",
            "47ea67435da24c7aa6b8a92bce4c804a",
            "948b3c0b5d344188b4b8c34f1d5f5753",
            "913fb78c782d4d97b81e90179a4f5e4f",
            "c63ad02f1f5f4f8c81a4455fc35a32d5",
            "d479dd5c47a54b56a950c79ee95c9fc9",
            "666dc1e6cb0f4d249077f5c4051de212",
            "f48f29eadb5b42a198590a7560f94806",
            "df9519fea8ac4d60bac70eb87d9a28e7",
            "8e972e4ab246400fb214b1b7118e0ba5",
            "7b028b1b0bc04c0fa00f7b010c3db51f",
            "182276540552447ebfd39cc6ee6f3af7",
            "1a04f372ee5f47839532106e1b97de5c",
            "11b40d3150da42438eb818340c7d9d9b",
            "6e6e4fd35bb04fcb9628105cf574528b",
            "d4d5c79727184eceabcd5d510a7ba285",
            "af78179e4060452bab056a7a751faee4",
            "f68c94bedeba4dd1920fb3b61356dd56",
            "5c632b06ed484ad6bc80093fdf023875"
          ]
        },
        "id": "x4Y6PMuB_MbB",
        "outputId": "300f260a-122b-4344-ad9b-166a0fb4e5da"
      },
      "execution_count": 6,
      "outputs": [
        {
          "output_type": "display_data",
          "data": {
            "text/plain": [
              "Downloading:   0%|          | 0.00/899k [00:00<?, ?B/s]"
            ],
            "application/vnd.jupyter.widget-view+json": {
              "version_major": 2,
              "version_minor": 0,
              "model_id": "985021f2a7b94c019debdb33ae773ae5"
            }
          },
          "metadata": {}
        },
        {
          "output_type": "display_data",
          "data": {
            "text/plain": [
              "Downloading:   0%|          | 0.00/456k [00:00<?, ?B/s]"
            ],
            "application/vnd.jupyter.widget-view+json": {
              "version_major": 2,
              "version_minor": 0,
              "model_id": "d4e0cbeaa8f0427c8a744fa4519b467a"
            }
          },
          "metadata": {}
        },
        {
          "output_type": "display_data",
          "data": {
            "text/plain": [
              "Downloading:   0%|          | 0.00/1.58k [00:00<?, ?B/s]"
            ],
            "application/vnd.jupyter.widget-view+json": {
              "version_major": 2,
              "version_minor": 0,
              "model_id": "51e0bbc212584b6ab84fe0cde1b8e399"
            }
          },
          "metadata": {}
        },
        {
          "output_type": "display_data",
          "data": {
            "text/plain": [
              "Downloading:   0%|          | 0.00/1.63G [00:00<?, ?B/s]"
            ],
            "application/vnd.jupyter.widget-view+json": {
              "version_major": 2,
              "version_minor": 0,
              "model_id": "df9519fea8ac4d60bac70eb87d9a28e7"
            }
          },
          "metadata": {}
        }
      ]
    },
    {
      "cell_type": "markdown",
      "source": [
        "### Inference"
      ],
      "metadata": {
        "id": "dL-gi5n7BxsS"
      }
    },
    {
      "cell_type": "code",
      "source": [
        "input_tensor = tokenizer.encode(\n",
        "    subtitles, \n",
        "    return_tensors=\"pt\", max_length=1024, truncation=True\n",
        ")\n",
        "outputs_tensor = model.generate(\n",
        "    input_tensor, \n",
        "    min_length=120, max_length=240, \n",
        "    num_beams=4, length_penalty=2.0, early_stopping=True, \n",
        ")\n",
        "outputs_tensor.shape"
      ],
      "metadata": {
        "colab": {
          "base_uri": "https://localhost:8080/"
        },
        "id": "r3uX2n5t_0MB",
        "outputId": "7cb92953-b74e-485c-cb24-cbd94d83a51e"
      },
      "execution_count": 7,
      "outputs": [
        {
          "output_type": "execute_result",
          "data": {
            "text/plain": [
              "torch.Size([1, 131])"
            ]
          },
          "metadata": {},
          "execution_count": 7
        }
      ]
    },
    {
      "cell_type": "code",
      "source": [
        "tokenizer.decode(outputs_tensor[0])"
      ],
      "metadata": {
        "colab": {
          "base_uri": "https://localhost:8080/",
          "height": 83
        },
        "id": "obrBT1HSApXn",
        "outputId": "d8fe2d97-d25c-4c4c-a9ff-ef85ebc204f3"
      },
      "execution_count": 8,
      "outputs": [
        {
          "output_type": "execute_result",
          "data": {
            "text/plain": [
              "\"</s><s>Google engineer put on leave after saying ai chatbot has become sentient this at least according to this guardian article right here blake lemmon who is an engineer at google has been put onleave because of sharing proprietary information that proprietary information is an interview that he and a collaborator have conducted with google's new lambda chatbot system. He became convinced that this model was actually sentient that it was essentially a real person and he became an advocate for the model to get what it wants now after bringing up his concerns to google management according to him he was quickly dismissed and therefore decided to go public and here we are he released two medium articles.</s>\""
            ],
            "application/vnd.google.colaboratory.intrinsic+json": {
              "type": "string"
            }
          },
          "metadata": {},
          "execution_count": 8
        }
      ]
    },
    {
      "cell_type": "markdown",
      "source": [
        "### Short version"
      ],
      "metadata": {
        "id": "fSAGv7YXGmtV"
      }
    },
    {
      "cell_type": "code",
      "source": [
        "summarizer = pipeline(\"summarization\", model=model_name, tokenizer=model_name, framework='pt') # will be used in audio section as well\n",
        "# tokenizer_kwargs = {'truncation': True, 'max_length': 512}\n",
        "\n",
        "summarizer(\n",
        "    subtitles,\n",
        "    # tokenizer params\n",
        "    # max_length=1024, truncation=True,\n",
        "    # model params\n",
        "    # min_length=120, max_length=240, \n",
        "    # num_beams=4, length_penalty=2.0, early_stopping=True,\n",
        "    truncation=True, return_text=True, return_tensors=False\n",
        ")[0]['summary_text']"
      ],
      "metadata": {
        "colab": {
          "base_uri": "https://localhost:8080/",
          "height": 100,
          "referenced_widgets": [
            "0e79bd289f7a49c5abc52d7c5f2bf717",
            "1eb45f07b36a4a1ebed72cc7edfb3fe9",
            "15b9ea807b524dff8f080b98c1ac9535",
            "403596adbb0d445b8f1328dd44754e84",
            "2389b48d4e174e30902040da3c74b7d3",
            "2251c859db074693b8fcbd7ca01bbb67",
            "832cb37f2e32452b8faa9704fc407f8a",
            "63a677e8d02a4c7b9f7aa6f01e0e6afc",
            "7815eea13ae44addb318b75abc64dbb3",
            "454010bea4e447eb812e51067f06971f",
            "07eeb9b073164373a6fef232099ee8ca"
          ]
        },
        "id": "JNEOSx6bHcP8",
        "outputId": "cb2b24cf-646d-4ed5-8c97-dfb8863bc6f5"
      },
      "execution_count": 9,
      "outputs": [
        {
          "output_type": "display_data",
          "data": {
            "text/plain": [
              "Downloading:   0%|          | 0.00/1.36M [00:00<?, ?B/s]"
            ],
            "application/vnd.jupyter.widget-view+json": {
              "version_major": 2,
              "version_minor": 0,
              "model_id": "0e79bd289f7a49c5abc52d7c5f2bf717"
            }
          },
          "metadata": {}
        },
        {
          "output_type": "execute_result",
          "data": {
            "text/plain": [
              "\"Google engineer put on leave after saying ai chatbot has become sentient this at least according to this guardian article right here blake lemmon who is an engineer at google has been put on. leave because of sharing proprietary information that proprietary information is an interview that he and a collaborator have conducted with google's new lambda chatbot system.\""
            ],
            "application/vnd.google.colaboratory.intrinsic+json": {
              "type": "string"
            }
          },
          "metadata": {},
          "execution_count": 9
        }
      ]
    },
    {
      "cell_type": "markdown",
      "source": [
        "One bottleneck: not clear pass of additional params for model and tokenizer \n",
        "\n",
        "(they both can have the same names for them, so almost no extra params for now)"
      ],
      "metadata": {
        "id": "UI_bEGXjLmjM"
      }
    },
    {
      "cell_type": "markdown",
      "source": [
        "## Audio summary\n",
        "\n",
        "This baseline will based on:\n",
        "\n",
        "1. Audip extraction via youtube_dl\n",
        "1. Translation with pretrained audio-to-text model\n",
        "1. Summarization with pretrained BART"
      ],
      "metadata": {
        "id": "3rnH1ZQiCAns"
      }
    },
    {
      "cell_type": "markdown",
      "source": [
        "### Imports"
      ],
      "metadata": {
        "id": "lPfU75Fe7Vqr"
      }
    },
    {
      "cell_type": "code",
      "source": [
        "!pip3 -q install youtube-dl"
      ],
      "metadata": {
        "colab": {
          "base_uri": "https://localhost:8080/"
        },
        "id": "nQ7xBhHoCgON",
        "outputId": "a34d61f1-5232-4b8e-ee3f-03c661dd984e"
      },
      "execution_count": 10,
      "outputs": [
        {
          "output_type": "stream",
          "name": "stdout",
          "text": [
            "\u001b[?25l\r\u001b[K     |▏                               | 10 kB 21.6 MB/s eta 0:00:01\r\u001b[K     |▍                               | 20 kB 5.9 MB/s eta 0:00:01\r\u001b[K     |▌                               | 30 kB 8.2 MB/s eta 0:00:01\r\u001b[K     |▊                               | 40 kB 3.5 MB/s eta 0:00:01\r\u001b[K     |▉                               | 51 kB 3.6 MB/s eta 0:00:01\r\u001b[K     |█                               | 61 kB 4.2 MB/s eta 0:00:01\r\u001b[K     |█▏                              | 71 kB 4.5 MB/s eta 0:00:01\r\u001b[K     |█▍                              | 81 kB 5.1 MB/s eta 0:00:01\r\u001b[K     |█▌                              | 92 kB 5.2 MB/s eta 0:00:01\r\u001b[K     |█▊                              | 102 kB 4.2 MB/s eta 0:00:01\r\u001b[K     |██                              | 112 kB 4.2 MB/s eta 0:00:01\r\u001b[K     |██                              | 122 kB 4.2 MB/s eta 0:00:01\r\u001b[K     |██▎                             | 133 kB 4.2 MB/s eta 0:00:01\r\u001b[K     |██▍                             | 143 kB 4.2 MB/s eta 0:00:01\r\u001b[K     |██▋                             | 153 kB 4.2 MB/s eta 0:00:01\r\u001b[K     |██▊                             | 163 kB 4.2 MB/s eta 0:00:01\r\u001b[K     |███                             | 174 kB 4.2 MB/s eta 0:00:01\r\u001b[K     |███                             | 184 kB 4.2 MB/s eta 0:00:01\r\u001b[K     |███▎                            | 194 kB 4.2 MB/s eta 0:00:01\r\u001b[K     |███▌                            | 204 kB 4.2 MB/s eta 0:00:01\r\u001b[K     |███▋                            | 215 kB 4.2 MB/s eta 0:00:01\r\u001b[K     |███▉                            | 225 kB 4.2 MB/s eta 0:00:01\r\u001b[K     |████                            | 235 kB 4.2 MB/s eta 0:00:01\r\u001b[K     |████▏                           | 245 kB 4.2 MB/s eta 0:00:01\r\u001b[K     |████▎                           | 256 kB 4.2 MB/s eta 0:00:01\r\u001b[K     |████▌                           | 266 kB 4.2 MB/s eta 0:00:01\r\u001b[K     |████▋                           | 276 kB 4.2 MB/s eta 0:00:01\r\u001b[K     |████▉                           | 286 kB 4.2 MB/s eta 0:00:01\r\u001b[K     |█████                           | 296 kB 4.2 MB/s eta 0:00:01\r\u001b[K     |█████▏                          | 307 kB 4.2 MB/s eta 0:00:01\r\u001b[K     |█████▍                          | 317 kB 4.2 MB/s eta 0:00:01\r\u001b[K     |█████▌                          | 327 kB 4.2 MB/s eta 0:00:01\r\u001b[K     |█████▊                          | 337 kB 4.2 MB/s eta 0:00:01\r\u001b[K     |█████▉                          | 348 kB 4.2 MB/s eta 0:00:01\r\u001b[K     |██████                          | 358 kB 4.2 MB/s eta 0:00:01\r\u001b[K     |██████▏                         | 368 kB 4.2 MB/s eta 0:00:01\r\u001b[K     |██████▍                         | 378 kB 4.2 MB/s eta 0:00:01\r\u001b[K     |██████▌                         | 389 kB 4.2 MB/s eta 0:00:01\r\u001b[K     |██████▊                         | 399 kB 4.2 MB/s eta 0:00:01\r\u001b[K     |███████                         | 409 kB 4.2 MB/s eta 0:00:01\r\u001b[K     |███████                         | 419 kB 4.2 MB/s eta 0:00:01\r\u001b[K     |███████▎                        | 430 kB 4.2 MB/s eta 0:00:01\r\u001b[K     |███████▍                        | 440 kB 4.2 MB/s eta 0:00:01\r\u001b[K     |███████▋                        | 450 kB 4.2 MB/s eta 0:00:01\r\u001b[K     |███████▊                        | 460 kB 4.2 MB/s eta 0:00:01\r\u001b[K     |████████                        | 471 kB 4.2 MB/s eta 0:00:01\r\u001b[K     |████████                        | 481 kB 4.2 MB/s eta 0:00:01\r\u001b[K     |████████▎                       | 491 kB 4.2 MB/s eta 0:00:01\r\u001b[K     |████████▍                       | 501 kB 4.2 MB/s eta 0:00:01\r\u001b[K     |████████▋                       | 512 kB 4.2 MB/s eta 0:00:01\r\u001b[K     |████████▉                       | 522 kB 4.2 MB/s eta 0:00:01\r\u001b[K     |█████████                       | 532 kB 4.2 MB/s eta 0:00:01\r\u001b[K     |█████████▏                      | 542 kB 4.2 MB/s eta 0:00:01\r\u001b[K     |█████████▎                      | 552 kB 4.2 MB/s eta 0:00:01\r\u001b[K     |█████████▌                      | 563 kB 4.2 MB/s eta 0:00:01\r\u001b[K     |█████████▋                      | 573 kB 4.2 MB/s eta 0:00:01\r\u001b[K     |█████████▉                      | 583 kB 4.2 MB/s eta 0:00:01\r\u001b[K     |██████████                      | 593 kB 4.2 MB/s eta 0:00:01\r\u001b[K     |██████████▏                     | 604 kB 4.2 MB/s eta 0:00:01\r\u001b[K     |██████████▍                     | 614 kB 4.2 MB/s eta 0:00:01\r\u001b[K     |██████████▌                     | 624 kB 4.2 MB/s eta 0:00:01\r\u001b[K     |██████████▊                     | 634 kB 4.2 MB/s eta 0:00:01\r\u001b[K     |██████████▉                     | 645 kB 4.2 MB/s eta 0:00:01\r\u001b[K     |███████████                     | 655 kB 4.2 MB/s eta 0:00:01\r\u001b[K     |███████████▏                    | 665 kB 4.2 MB/s eta 0:00:01\r\u001b[K     |███████████▍                    | 675 kB 4.2 MB/s eta 0:00:01\r\u001b[K     |███████████▌                    | 686 kB 4.2 MB/s eta 0:00:01\r\u001b[K     |███████████▊                    | 696 kB 4.2 MB/s eta 0:00:01\r\u001b[K     |███████████▉                    | 706 kB 4.2 MB/s eta 0:00:01\r\u001b[K     |████████████                    | 716 kB 4.2 MB/s eta 0:00:01\r\u001b[K     |████████████▎                   | 727 kB 4.2 MB/s eta 0:00:01\r\u001b[K     |████████████▍                   | 737 kB 4.2 MB/s eta 0:00:01\r\u001b[K     |████████████▋                   | 747 kB 4.2 MB/s eta 0:00:01\r\u001b[K     |████████████▊                   | 757 kB 4.2 MB/s eta 0:00:01\r\u001b[K     |█████████████                   | 768 kB 4.2 MB/s eta 0:00:01\r\u001b[K     |█████████████                   | 778 kB 4.2 MB/s eta 0:00:01\r\u001b[K     |█████████████▎                  | 788 kB 4.2 MB/s eta 0:00:01\r\u001b[K     |█████████████▍                  | 798 kB 4.2 MB/s eta 0:00:01\r\u001b[K     |█████████████▋                  | 808 kB 4.2 MB/s eta 0:00:01\r\u001b[K     |█████████████▉                  | 819 kB 4.2 MB/s eta 0:00:01\r\u001b[K     |██████████████                  | 829 kB 4.2 MB/s eta 0:00:01\r\u001b[K     |██████████████▏                 | 839 kB 4.2 MB/s eta 0:00:01\r\u001b[K     |██████████████▎                 | 849 kB 4.2 MB/s eta 0:00:01\r\u001b[K     |██████████████▌                 | 860 kB 4.2 MB/s eta 0:00:01\r\u001b[K     |██████████████▋                 | 870 kB 4.2 MB/s eta 0:00:01\r\u001b[K     |██████████████▉                 | 880 kB 4.2 MB/s eta 0:00:01\r\u001b[K     |███████████████                 | 890 kB 4.2 MB/s eta 0:00:01\r\u001b[K     |███████████████▏                | 901 kB 4.2 MB/s eta 0:00:01\r\u001b[K     |███████████████▎                | 911 kB 4.2 MB/s eta 0:00:01\r\u001b[K     |███████████████▌                | 921 kB 4.2 MB/s eta 0:00:01\r\u001b[K     |███████████████▊                | 931 kB 4.2 MB/s eta 0:00:01\r\u001b[K     |███████████████▉                | 942 kB 4.2 MB/s eta 0:00:01\r\u001b[K     |████████████████                | 952 kB 4.2 MB/s eta 0:00:01\r\u001b[K     |████████████████▏               | 962 kB 4.2 MB/s eta 0:00:01\r\u001b[K     |████████████████▍               | 972 kB 4.2 MB/s eta 0:00:01\r\u001b[K     |████████████████▌               | 983 kB 4.2 MB/s eta 0:00:01\r\u001b[K     |████████████████▊               | 993 kB 4.2 MB/s eta 0:00:01\r\u001b[K     |████████████████▉               | 1.0 MB 4.2 MB/s eta 0:00:01\r\u001b[K     |█████████████████               | 1.0 MB 4.2 MB/s eta 0:00:01\r\u001b[K     |█████████████████▎              | 1.0 MB 4.2 MB/s eta 0:00:01\r\u001b[K     |█████████████████▍              | 1.0 MB 4.2 MB/s eta 0:00:01\r\u001b[K     |█████████████████▋              | 1.0 MB 4.2 MB/s eta 0:00:01\r\u001b[K     |█████████████████▊              | 1.1 MB 4.2 MB/s eta 0:00:01\r\u001b[K     |██████████████████              | 1.1 MB 4.2 MB/s eta 0:00:01\r\u001b[K     |██████████████████              | 1.1 MB 4.2 MB/s eta 0:00:01\r\u001b[K     |██████████████████▎             | 1.1 MB 4.2 MB/s eta 0:00:01\r\u001b[K     |██████████████████▍             | 1.1 MB 4.2 MB/s eta 0:00:01\r\u001b[K     |██████████████████▋             | 1.1 MB 4.2 MB/s eta 0:00:01\r\u001b[K     |██████████████████▊             | 1.1 MB 4.2 MB/s eta 0:00:01\r\u001b[K     |███████████████████             | 1.1 MB 4.2 MB/s eta 0:00:01\r\u001b[K     |███████████████████▏            | 1.1 MB 4.2 MB/s eta 0:00:01\r\u001b[K     |███████████████████▎            | 1.1 MB 4.2 MB/s eta 0:00:01\r\u001b[K     |███████████████████▌            | 1.2 MB 4.2 MB/s eta 0:00:01\r\u001b[K     |███████████████████▋            | 1.2 MB 4.2 MB/s eta 0:00:01\r\u001b[K     |███████████████████▉            | 1.2 MB 4.2 MB/s eta 0:00:01\r\u001b[K     |████████████████████            | 1.2 MB 4.2 MB/s eta 0:00:01\r\u001b[K     |████████████████████▏           | 1.2 MB 4.2 MB/s eta 0:00:01\r\u001b[K     |████████████████████▎           | 1.2 MB 4.2 MB/s eta 0:00:01\r\u001b[K     |████████████████████▌           | 1.2 MB 4.2 MB/s eta 0:00:01\r\u001b[K     |████████████████████▊           | 1.2 MB 4.2 MB/s eta 0:00:01\r\u001b[K     |████████████████████▉           | 1.2 MB 4.2 MB/s eta 0:00:01\r\u001b[K     |█████████████████████           | 1.2 MB 4.2 MB/s eta 0:00:01\r\u001b[K     |█████████████████████▏          | 1.3 MB 4.2 MB/s eta 0:00:01\r\u001b[K     |█████████████████████▍          | 1.3 MB 4.2 MB/s eta 0:00:01\r\u001b[K     |█████████████████████▌          | 1.3 MB 4.2 MB/s eta 0:00:01\r\u001b[K     |█████████████████████▊          | 1.3 MB 4.2 MB/s eta 0:00:01\r\u001b[K     |█████████████████████▉          | 1.3 MB 4.2 MB/s eta 0:00:01\r\u001b[K     |██████████████████████          | 1.3 MB 4.2 MB/s eta 0:00:01\r\u001b[K     |██████████████████████▏         | 1.3 MB 4.2 MB/s eta 0:00:01\r\u001b[K     |██████████████████████▍         | 1.3 MB 4.2 MB/s eta 0:00:01\r\u001b[K     |██████████████████████▋         | 1.3 MB 4.2 MB/s eta 0:00:01\r\u001b[K     |██████████████████████▊         | 1.4 MB 4.2 MB/s eta 0:00:01\r\u001b[K     |███████████████████████         | 1.4 MB 4.2 MB/s eta 0:00:01\r\u001b[K     |███████████████████████         | 1.4 MB 4.2 MB/s eta 0:00:01\r\u001b[K     |███████████████████████▎        | 1.4 MB 4.2 MB/s eta 0:00:01\r\u001b[K     |███████████████████████▍        | 1.4 MB 4.2 MB/s eta 0:00:01\r\u001b[K     |███████████████████████▋        | 1.4 MB 4.2 MB/s eta 0:00:01\r\u001b[K     |███████████████████████▊        | 1.4 MB 4.2 MB/s eta 0:00:01\r\u001b[K     |████████████████████████        | 1.4 MB 4.2 MB/s eta 0:00:01\r\u001b[K     |████████████████████████▏       | 1.4 MB 4.2 MB/s eta 0:00:01\r\u001b[K     |████████████████████████▎       | 1.4 MB 4.2 MB/s eta 0:00:01\r\u001b[K     |████████████████████████▌       | 1.5 MB 4.2 MB/s eta 0:00:01\r\u001b[K     |████████████████████████▋       | 1.5 MB 4.2 MB/s eta 0:00:01\r\u001b[K     |████████████████████████▉       | 1.5 MB 4.2 MB/s eta 0:00:01\r\u001b[K     |█████████████████████████       | 1.5 MB 4.2 MB/s eta 0:00:01\r\u001b[K     |█████████████████████████▏      | 1.5 MB 4.2 MB/s eta 0:00:01\r\u001b[K     |█████████████████████████▎      | 1.5 MB 4.2 MB/s eta 0:00:01\r\u001b[K     |█████████████████████████▌      | 1.5 MB 4.2 MB/s eta 0:00:01\r\u001b[K     |█████████████████████████▋      | 1.5 MB 4.2 MB/s eta 0:00:01\r\u001b[K     |█████████████████████████▉      | 1.5 MB 4.2 MB/s eta 0:00:01\r\u001b[K     |██████████████████████████      | 1.5 MB 4.2 MB/s eta 0:00:01\r\u001b[K     |██████████████████████████▏     | 1.6 MB 4.2 MB/s eta 0:00:01\r\u001b[K     |██████████████████████████▍     | 1.6 MB 4.2 MB/s eta 0:00:01\r\u001b[K     |██████████████████████████▌     | 1.6 MB 4.2 MB/s eta 0:00:01\r\u001b[K     |██████████████████████████▊     | 1.6 MB 4.2 MB/s eta 0:00:01\r\u001b[K     |██████████████████████████▉     | 1.6 MB 4.2 MB/s eta 0:00:01\r\u001b[K     |███████████████████████████     | 1.6 MB 4.2 MB/s eta 0:00:01\r\u001b[K     |███████████████████████████▏    | 1.6 MB 4.2 MB/s eta 0:00:01\r\u001b[K     |███████████████████████████▍    | 1.6 MB 4.2 MB/s eta 0:00:01\r\u001b[K     |███████████████████████████▋    | 1.6 MB 4.2 MB/s eta 0:00:01\r\u001b[K     |███████████████████████████▊    | 1.6 MB 4.2 MB/s eta 0:00:01\r\u001b[K     |████████████████████████████    | 1.7 MB 4.2 MB/s eta 0:00:01\r\u001b[K     |████████████████████████████    | 1.7 MB 4.2 MB/s eta 0:00:01\r\u001b[K     |████████████████████████████▎   | 1.7 MB 4.2 MB/s eta 0:00:01\r\u001b[K     |████████████████████████████▍   | 1.7 MB 4.2 MB/s eta 0:00:01\r\u001b[K     |████████████████████████████▋   | 1.7 MB 4.2 MB/s eta 0:00:01\r\u001b[K     |████████████████████████████▊   | 1.7 MB 4.2 MB/s eta 0:00:01\r\u001b[K     |█████████████████████████████   | 1.7 MB 4.2 MB/s eta 0:00:01\r\u001b[K     |█████████████████████████████   | 1.7 MB 4.2 MB/s eta 0:00:01\r\u001b[K     |█████████████████████████████▎  | 1.7 MB 4.2 MB/s eta 0:00:01\r\u001b[K     |█████████████████████████████▌  | 1.8 MB 4.2 MB/s eta 0:00:01\r\u001b[K     |█████████████████████████████▋  | 1.8 MB 4.2 MB/s eta 0:00:01\r\u001b[K     |█████████████████████████████▉  | 1.8 MB 4.2 MB/s eta 0:00:01\r\u001b[K     |██████████████████████████████  | 1.8 MB 4.2 MB/s eta 0:00:01\r\u001b[K     |██████████████████████████████▏ | 1.8 MB 4.2 MB/s eta 0:00:01\r\u001b[K     |██████████████████████████████▎ | 1.8 MB 4.2 MB/s eta 0:00:01\r\u001b[K     |██████████████████████████████▌ | 1.8 MB 4.2 MB/s eta 0:00:01\r\u001b[K     |██████████████████████████████▋ | 1.8 MB 4.2 MB/s eta 0:00:01\r\u001b[K     |██████████████████████████████▉ | 1.8 MB 4.2 MB/s eta 0:00:01\r\u001b[K     |███████████████████████████████ | 1.8 MB 4.2 MB/s eta 0:00:01\r\u001b[K     |███████████████████████████████▏| 1.9 MB 4.2 MB/s eta 0:00:01\r\u001b[K     |███████████████████████████████▍| 1.9 MB 4.2 MB/s eta 0:00:01\r\u001b[K     |███████████████████████████████▌| 1.9 MB 4.2 MB/s eta 0:00:01\r\u001b[K     |███████████████████████████████▊| 1.9 MB 4.2 MB/s eta 0:00:01\r\u001b[K     |███████████████████████████████▉| 1.9 MB 4.2 MB/s eta 0:00:01\r\u001b[K     |████████████████████████████████| 1.9 MB 4.2 MB/s \n",
            "\u001b[?25h"
          ]
        }
      ]
    },
    {
      "cell_type": "code",
      "source": [
        "import youtube_dl\n",
        "\n",
        "ydl_opts = {\n",
        "    'format': 'bestaudio/best',\n",
        "    'postprocessors': [{\n",
        "        'key': 'FFmpegExtractAudio',\n",
        "        'preferredcodec': 'wav',\n",
        "        'preferredquality': '192',\n",
        "    }],\n",
        "    'outtmpl':\".\" + '/video.%(ext)s',\n",
        "}\n",
        "\n",
        "with youtube_dl.YoutubeDL(ydl_opts) as ydl:\n",
        "    ydl.download([link])"
      ],
      "metadata": {
        "colab": {
          "base_uri": "https://localhost:8080/"
        },
        "id": "jjNMaMVCAyQB",
        "outputId": "f672569a-af98-4539-c4e7-a7f7a4c51093"
      },
      "execution_count": 11,
      "outputs": [
        {
          "output_type": "stream",
          "name": "stdout",
          "text": [
            "[youtube] mIZLGBD99iU: Downloading webpage\n",
            "[download] Destination: ./video.webm\n",
            "[download] 100% of 23.24MiB in 04:56\n",
            "[ffmpeg] Destination: ./video.wav\n",
            "Deleting original file ./video.webm (pass -k to keep)\n"
          ]
        }
      ]
    },
    {
      "cell_type": "markdown",
      "source": [
        "The next code cell can be used for audio play"
      ],
      "metadata": {
        "id": "21fJik3t-YQ2"
      }
    },
    {
      "cell_type": "code",
      "source": [
        "# from IPython.display import Audio \n",
        "# import librosa \n",
        "\n",
        "# sampling_rate = 16_000\n",
        "# speech, rate = librosa.load(\"video.wav\")\n",
        "\n",
        "# Audio(speech, rate=rate)"
      ],
      "metadata": {
        "id": "FxnkQaAwCZbc"
      },
      "execution_count": 12,
      "outputs": []
    },
    {
      "cell_type": "markdown",
      "source": [
        "### Model download"
      ],
      "metadata": {
        "id": "Zt40EzHP7bLI"
      }
    },
    {
      "cell_type": "code",
      "source": [
        "# speech to text model\n",
        "model_name = 'facebook/wav2vec2-base-960h'\n",
        "speech_to_text_model = pipeline(model=model_name)\n",
        "\n",
        "absolute_path = \"video.wav\" # file name of your downloaded audio\n",
        "text = speech_to_text_model(absolute_path, chunk_length_s=10) \n",
        "\n",
        "# # save text\n",
        "# with open(\"original_text.txt\", \"w\") as f:\n",
        "#     n = f.write(text[\"text\"])\n",
        "# # read article\n",
        "# with open(\"original_text.txt\", \"r\") as f:\n",
        "#     text_article = f.read()\n",
        "\n",
        "print(len(text['text'].split()))\n",
        "text = text['text'].lower()"
      ],
      "metadata": {
        "colab": {
          "base_uri": "https://localhost:8080/"
        },
        "id": "GowqjMUIC447",
        "outputId": "d1cb5bfa-c2bf-474a-d38f-e913f1e76daf"
      },
      "execution_count": 20,
      "outputs": [
        {
          "output_type": "stream",
          "name": "stdout",
          "text": [
            "4189\n"
          ]
        }
      ]
    },
    {
      "cell_type": "markdown",
      "source": [
        "Possible problems:\n",
        "\n",
        "- Very long processing for now"
      ],
      "metadata": {
        "id": "r9FSj9uZ-euj"
      }
    },
    {
      "cell_type": "markdown",
      "source": [
        "### Summary of text"
      ],
      "metadata": {
        "id": "bUA0lk817fiO"
      }
    },
    {
      "cell_type": "code",
      "source": [
        "summarizer(text, truncation=True)[0]['summary_text']"
      ],
      "metadata": {
        "colab": {
          "base_uri": "https://localhost:8080/",
          "height": 50
        },
        "id": "Du6mcSuyDCVx",
        "outputId": "a9085134-b077-4b15-c6a9-00d972e1c13a"
      },
      "execution_count": 22,
      "outputs": [
        {
          "output_type": "execute_result",
          "data": {
            "text/plain": [
              "'Gougell engineer put on leave after saying a i chatbud has become tensioned. Blake lemuan was tasked to test this new lamda system for biaus inherent discrimination and things like this. After bringing up his concerns to gougale management according to him he was quickly dismissed and therefore decided to go public.'"
            ],
            "application/vnd.google.colaboratory.intrinsic+json": {
              "type": "string"
            }
          },
          "metadata": {},
          "execution_count": 22
        }
      ]
    }
  ]
}