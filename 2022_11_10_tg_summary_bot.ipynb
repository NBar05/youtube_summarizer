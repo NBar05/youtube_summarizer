{
  "nbformat": 4,
  "nbformat_minor": 0,
  "metadata": {
    "colab": {
      "private_outputs": true,
      "provenance": []
    },
    "kernelspec": {
      "name": "python3",
      "display_name": "Python 3"
    },
    "language_info": {
      "name": "python"
    },
    "accelerator": "GPU",
    "gpuClass": "standard"
  },
  "cells": [
    {
      "cell_type": "code",
      "source": [
        "!pip install pyTelegramBotAPI\n",
        "!pip3 -q install youtube_transcript_api\n",
        "!pip3 -q install transformers"
      ],
      "metadata": {
        "id": "LGNzHK74D97a"
      },
      "execution_count": null,
      "outputs": []
    },
    {
      "cell_type": "code",
      "source": [
        "####################################################################################\n",
        "# impor libraries\n",
        "\n",
        "import os\n",
        "import psutil\n",
        "import telebot\n",
        "import string\n",
        "import torch\n",
        "import numpy as np\n",
        "from datetime import datetime\n",
        "\n",
        "\n",
        "from youtube_transcript_api import YouTubeTranscriptApi\n",
        "import transformers\n",
        "from transformers import BartTokenizer, BartForConditionalGeneration, pipeline\n",
        "\n",
        "device = torch.device(\"cuda\" if torch.cuda.is_available() else \"cpu\")"
      ],
      "metadata": {
        "id": "JunyE426605B"
      },
      "execution_count": null,
      "outputs": []
    },
    {
      "cell_type": "code",
      "source": [
        "####################################################################################\n",
        "# model for summary\n",
        "model_name = 'facebook/bart-large-cnn' # can be any model which satisfies quality and inference constraints\n",
        "\n",
        "tokenizer = BartTokenizer.from_pretrained(model_name)\n",
        "model = BartForConditionalGeneration.from_pretrained(model_name)#.to(device)"
      ],
      "metadata": {
        "id": "itxrqOV6BDz2"
      },
      "execution_count": null,
      "outputs": []
    },
    {
      "cell_type": "code",
      "execution_count": null,
      "metadata": {
        "id": "mHm2Td83Ds3F"
      },
      "outputs": [],
      "source": [
        "####################################################################################\n",
        "# tg bot\n",
        "\n",
        "token = '5565148517:AAG3LoJUgMAmymBg6BFq8ARLJ-bc26fcySQ'\n",
        "bot = telebot.TeleBot(token)\n",
        "\n",
        "def summary(message, threshold):\n",
        "    link = message.text\n",
        "    unique_id = link[threshold:]\n",
        "\n",
        "    bot.send_message(message.chat.id, \"Отлично, это действительно ссылка на YouTuBe видео, дай мне, пожалуйста, немного времени и я скоро отправлю саммари)\")\n",
        "\n",
        "    # count time\n",
        "    start = datetime.now()\n",
        "\n",
        "    # make summary part\n",
        "    subtitles_by_intervals = YouTubeTranscriptApi.get_transcript(unique_id, languages=['en', 'ru']) \n",
        "    subtitles = \" \".join([x['text'] for x in subtitles_by_intervals])\n",
        "    subtitles = subtitles#.to(device)\n",
        "\n",
        "    summarizer = pipeline(\"summarization\", model=model_name, tokenizer=model_name, framework='pt') # will be used in audio section as well\n",
        "    # tokenizer_kwargs = {'truncation': True, 'max_length': 512}\n",
        "\n",
        "    result = summarizer(\n",
        "                subtitles,\n",
        "                # tokenizer params\n",
        "                # max_length=1024, truncation=True,\n",
        "                # model params\n",
        "                # min_length=120, max_length=240, \n",
        "                # num_beams=4, length_penalty=2.0, early_stopping=True,\n",
        "                truncation=True, return_text=True, return_tensors=False\n",
        "            )[0]['summary_text']\n",
        "\n",
        "    bot.send_message(message.chat.id, \"Саммари готово)\")\n",
        "    bot.send_message(message.chat.id, f\"{result}\")\n",
        "\n",
        "    end = datetime.now()\n",
        "    bot.send_message(message.chat.id, f\"Мне потребовалось {np.round((end - start).total_seconds(), 2)} секунд для ответа)\")\n",
        "\n",
        "@bot.message_handler(commands=['start'])\n",
        "def start_message(message):\n",
        "    bot.send_message(message.chat.id, 'Привет!) \\nЯ умею делать саммари по видео с YouTuBe. Отправь мне ссылку на видео, и я сделаю по нему саммари)')\n",
        "\n",
        "@bot.message_handler(content_types=['text'])\n",
        "def action_function(message):\n",
        "    \n",
        "    # if youtube link has the \"brauser\" form like https://www.youtube.com/watch?v= we preprocess one way\n",
        "    if (message.text[:32] == \"https://www.youtube.com/watch?v=\"):\n",
        "        summary(message, threshold = 32)\n",
        "        \n",
        "    # if youtube link has the \"iphone\" form like https://youtu.be/ we preprocess another way\n",
        "    elif (message.text[:17] == \"https://youtu.be/\"):\n",
        "        summary(message, threshold = 17)\n",
        "\n",
        "    else:\n",
        "        bot.send_message(message.chat.id, \"Проверь, пожалуйста, что ссылка корректна, не могу найти видео на YouTuBe с такой ссылкой)\")\n",
        "\n",
        "\n",
        "bot.polling(none_stop=True)"
      ]
    },
    {
      "cell_type": "code",
      "source": [
        "# text_1 = \"https://youtu.be/Z1RJmh_OqeA\"\n",
        "# text_2 = \"https://www.youtube.com/watch?v=Z1RJmh_OqeA\""
      ],
      "metadata": {
        "id": "7AGfagf_DtRu"
      },
      "execution_count": null,
      "outputs": []
    },
    {
      "cell_type": "code",
      "source": [],
      "metadata": {
        "id": "6qJGmhcKQa2i"
      },
      "execution_count": null,
      "outputs": []
    }
  ]
}